{
 "cells": [
  {
   "cell_type": "code",
   "execution_count": null,
   "id": "01760ed6-465e-47dc-848f-2a11b8aa9e26",
   "metadata": {},
   "outputs": [],
   "source": [
    "# 1. تحميل المكتبات\n",
    "import pandas as pd\n",
    "import re\n",
    "import numpy as np\n",
    "import torch\n",
    "import emoji\n",
    "import language_tool_python\n",
    "from sklearn.model_selection import train_test_split\n",
    "from sklearn.utils.class_weight import compute_class_weight\n",
    "from sklearn.metrics import classification_report, confusion_matrix\n",
    "from imblearn.over_sampling import SMOTE\n",
    "from torch.utils.data import Dataset, DataLoader\n",
    "from transformers import AutoTokenizer, AutoModelForSequenceClassification, TrainingArguments, Trainer, EarlyStoppingCallback\n"
   ]
  },
  {
   "cell_type": "code",
   "execution_count": null,
   "id": "578885b3-2004-440e-a7ca-51a43da25f1c",
   "metadata": {},
   "outputs": [],
   "source": [
    "# 2. تحميل البيانات\n",
    "file_path = 'germeval.training.txt.txt'  # تأكد من وضع المسار الصحيح للملف\n",
    "\n",
    "df = pd.read_csv(file_path, sep='\\t', header=None, names=['text', 'label1', 'label2'])\n",
    "\n",
    "df = df[['text', 'label1']]\n",
    "df = df[df['label1'].isin(['OTHER', 'OFFENSE'])]  # الاحتفاظ بالتصنيفات المهمة فقط\n",
    "df['label'] = df['label1'].map({'OTHER': 0, 'OFFENSE': 1})\n",
    "df = df[['text', 'label']]\n"
   ]
  },
  {
   "cell_type": "code",
   "execution_count": null,
   "id": "5c086602-0c11-445b-8b90-c26562204311",
   "metadata": {},
   "outputs": [],
   "source": [
    "df.head"
   ]
  },
  {
   "cell_type": "code",
   "execution_count": null,
   "id": "34d5bf0c-5f3e-4fe9-a364-d07f9361f763",
   "metadata": {},
   "outputs": [],
   "source": [
    "# 3. تنظيف النصوص\n",
    "def clean_text(text):\n",
    "    text = re.sub(r'\\|LBR\\|', ' ', text)  # إزالة الرموز مثل |LBR|\n",
    "    text = re.sub(r'@\\w+', '', text)  # إزالة الأسماء المستعارة\n",
    "    text = re.sub(r'#\\w+', '', text)  # إزالة الهاشتاقات\n",
    "    text = re.sub(r'http\\S+', '', text)  # إزالة الروابط\n",
    "    text = emoji.replace_emoji(text, replace='')  # إزالة الرموز التعبيرية\n",
    "    text = re.sub(r'(.)\\1+', r'\\1\\1', text)  # تقليل التكرار في الأحرف\n",
    "    return text.strip()\n",
    "\n",
    "df['text'] = df['text'].apply(clean_text)"
   ]
  },
  {
   "cell_type": "code",
   "execution_count": null,
   "id": "c8a29ca6-66b0-43ff-95c2-6b505931fdc8",
   "metadata": {},
   "outputs": [],
   "source": [
    "# 4. تصحيح الأخطاء الإملائية باستخدام LanguageTool\n",
    "language_tool = language_tool_python.LanguageTool('de')\n",
    "def correct_with_languagetool(text):\n",
    "    return language_tool.correct(text)\n",
    "\n",
    "df['text'] = df['text'].apply(correct_with_languagetool)"
   ]
  },
  {
   "cell_type": "code",
   "execution_count": null,
   "id": "1948df90-0c7b-4f47-9e81-e4e9e5b50c15",
   "metadata": {},
   "outputs": [],
   "source": [
    "# 5. إزالة النصوص الفارغة\n",
    "df = df[df['text'].str.strip() != '']"
   ]
  },
  {
   "cell_type": "code",
   "execution_count": null,
   "id": "46312a7d-a57d-4307-86ad-d60db3414676",
   "metadata": {},
   "outputs": [],
   "source": [
    "# 6. تقسيم البيانات\n",
    "train_texts, test_texts, train_labels, test_labels = train_test_split(\n",
    "    df['text'], df['label'], test_size=0.2, random_state=42\n",
    ")"
   ]
  },
  {
   "cell_type": "code",
   "execution_count": null,
   "id": "eb70ab0b-71d5-4a19-b3e8-c7faf8d47c66",
   "metadata": {},
   "outputs": [],
   "source": [
    "# 7. التعامل مع عدم توازن البيانات باستخدام SMOTE\n",
    "smote = SMOTE(random_state=42)\n",
    "train_texts_resampled, train_labels_resampled = smote.fit_resample(\n",
    "    np.array(train_texts).reshape(-1, 1), train_labels\n",
    ")\n",
    "train_texts = train_texts_resampled.flatten()\n"
   ]
  },
  {
   "cell_type": "code",
   "execution_count": null,
   "id": "1ad35e74-c2ff-479b-9c94-1c9120cdab72",
   "metadata": {},
   "outputs": [],
   "source": [
    "# 8. تحضير النموذج\n",
    "model_name = 'bert-base-multilingual-cased'  # نموذج متقدم\n",
    "\n",
    "tokenizer = AutoTokenizer.from_pretrained(model_name)\n",
    "model = AutoModelForSequenceClassification.from_pretrained(model_name, num_labels=2)\n"
   ]
  },
  {
   "cell_type": "code",
   "execution_count": null,
   "id": "041b0e9d-3a76-47a8-8076-d7f2de15651b",
   "metadata": {},
   "outputs": [],
   "source": [
    "# 9. ضبط وتدريب النموذج\n",
    "training_args = TrainingArguments(\n",
    "    output_dir='./results',\n",
    "    evaluation_strategy='epoch',\n",
    "    save_strategy='epoch',\n",
    "    per_device_train_batch_size=8,\n",
    "    per_device_eval_batch_size=8,\n",
    "    num_train_epochs=5,\n",
    "    weight_decay=0.01,\n",
    "    logging_dir='./logs',\n",
    "    load_best_model_at_end=True,\n",
    "    metric_for_best_model='f1'\n",
    ")"
   ]
  },
  {
   "cell_type": "code",
   "execution_count": null,
   "id": "a7308efb-2b45-4cc8-bd1a-4c17af14591a",
   "metadata": {},
   "outputs": [],
   "source": [
    "def compute_metrics(eval_pred):\n",
    "    logits, labels = eval_pred\n",
    "    preds = np.argmax(logits, axis=-1)\n",
    "    return {'f1': f1_score(labels, preds)}\n",
    "\n",
    "trainer = Trainer(\n",
    "    model=model,\n",
    "    args=training_args,\n",
    "    train_dataset=list(zip(train_texts, train_labels)),\n",
    "    eval_dataset=list(zip(test_texts, test_labels)),\n",
    "    tokenizer=tokenizer,\n",
    "    compute_metrics=compute_metrics,\n",
    "    callbacks=[EarlyStoppingCallback(early_stopping_patience=3)]\n",
    ")\n",
    "\n",
    "trainer.train()\n"
   ]
  },
  {
   "cell_type": "code",
   "execution_count": null,
   "id": "c9a2f0e9-ce01-44a9-bd4e-f28b4f79ff99",
   "metadata": {},
   "outputs": [],
   "source": [
    "# 10. تقييم النموذج\n",
    "preds_output = trainer.predict(list(zip(test_texts, test_labels)))\n",
    "preds = np.argmax(preds_output.predictions, axis=-1)\n",
    "print(classification_report(test_labels, preds))\n",
    "print(confusion_matrix(test_labels, preds))\n"
   ]
  },
  {
   "cell_type": "code",
   "execution_count": null,
   "id": "bf69ebe3-7307-44d7-813a-96b98c7cc8f2",
   "metadata": {},
   "outputs": [],
   "source": []
  },
  {
   "cell_type": "code",
   "execution_count": null,
   "id": "c1d723a9-6533-4382-8201-b6f35c24cc59",
   "metadata": {},
   "outputs": [],
   "source": []
  }
 ],
 "metadata": {
  "kernelspec": {
   "display_name": "Python 3 (ipykernel)",
   "language": "python",
   "name": "python3"
  },
  "language_info": {
   "codemirror_mode": {
    "name": "ipython",
    "version": 3
   },
   "file_extension": ".py",
   "mimetype": "text/x-python",
   "name": "python",
   "nbconvert_exporter": "python",
   "pygments_lexer": "ipython3",
   "version": "3.9.21"
  }
 },
 "nbformat": 4,
 "nbformat_minor": 5
}
